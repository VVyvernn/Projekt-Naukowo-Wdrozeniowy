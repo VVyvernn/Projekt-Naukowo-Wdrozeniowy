{
 "cells": [
  {
   "cell_type": "code",
   "execution_count": 78,
   "metadata": {},
   "outputs": [],
   "source": [
    "import pandas as pd\n",
    "\n",
    "df = pd.read_parquet('processed_pca.parquet')"
   ]
  },
  {
   "cell_type": "code",
   "execution_count": 79,
   "metadata": {},
   "outputs": [
    {
     "data": {
      "text/html": [
       "<div>\n",
       "<style scoped>\n",
       "    .dataframe tbody tr th:only-of-type {\n",
       "        vertical-align: middle;\n",
       "    }\n",
       "\n",
       "    .dataframe tbody tr th {\n",
       "        vertical-align: top;\n",
       "    }\n",
       "\n",
       "    .dataframe thead th {\n",
       "        text-align: right;\n",
       "    }\n",
       "</style>\n",
       "<table border=\"1\" class=\"dataframe\">\n",
       "  <thead>\n",
       "    <tr style=\"text-align: right;\">\n",
       "      <th></th>\n",
       "      <th>label</th>\n",
       "      <th>pca_0</th>\n",
       "      <th>pca_1</th>\n",
       "      <th>pca_2</th>\n",
       "      <th>pca_3</th>\n",
       "      <th>pca_4</th>\n",
       "      <th>pca_5</th>\n",
       "      <th>pca_6</th>\n",
       "      <th>pca_7</th>\n",
       "      <th>pca_8</th>\n",
       "      <th>pca_9</th>\n",
       "      <th>pca_10</th>\n",
       "      <th>pca_11</th>\n",
       "      <th>pca_12</th>\n",
       "      <th>tsne_label</th>\n",
       "    </tr>\n",
       "  </thead>\n",
       "  <tbody>\n",
       "    <tr>\n",
       "      <th>66812</th>\n",
       "      <td>0</td>\n",
       "      <td>3.405352</td>\n",
       "      <td>-0.133571</td>\n",
       "      <td>0.022913</td>\n",
       "      <td>-0.656788</td>\n",
       "      <td>0.076587</td>\n",
       "      <td>-1.700207</td>\n",
       "      <td>-0.819912</td>\n",
       "      <td>0.225086</td>\n",
       "      <td>-0.306587</td>\n",
       "      <td>-0.567517</td>\n",
       "      <td>-0.105182</td>\n",
       "      <td>-0.090669</td>\n",
       "      <td>-0.012744</td>\n",
       "      <td>0</td>\n",
       "    </tr>\n",
       "    <tr>\n",
       "      <th>26491</th>\n",
       "      <td>0</td>\n",
       "      <td>-6.135670</td>\n",
       "      <td>-0.950632</td>\n",
       "      <td>-1.297717</td>\n",
       "      <td>0.219088</td>\n",
       "      <td>0.041739</td>\n",
       "      <td>0.684836</td>\n",
       "      <td>0.246802</td>\n",
       "      <td>-0.349805</td>\n",
       "      <td>-0.559061</td>\n",
       "      <td>-0.274078</td>\n",
       "      <td>-0.342808</td>\n",
       "      <td>-0.085273</td>\n",
       "      <td>-0.018611</td>\n",
       "      <td>0</td>\n",
       "    </tr>\n",
       "    <tr>\n",
       "      <th>56814</th>\n",
       "      <td>0</td>\n",
       "      <td>5.369586</td>\n",
       "      <td>0.137090</td>\n",
       "      <td>0.426693</td>\n",
       "      <td>-0.805127</td>\n",
       "      <td>0.490753</td>\n",
       "      <td>0.604057</td>\n",
       "      <td>-0.149051</td>\n",
       "      <td>0.276510</td>\n",
       "      <td>0.010877</td>\n",
       "      <td>0.378712</td>\n",
       "      <td>-0.531828</td>\n",
       "      <td>-0.469075</td>\n",
       "      <td>-0.354219</td>\n",
       "      <td>0</td>\n",
       "    </tr>\n",
       "    <tr>\n",
       "      <th>62888</th>\n",
       "      <td>0</td>\n",
       "      <td>2.679422</td>\n",
       "      <td>-1.730951</td>\n",
       "      <td>-1.150534</td>\n",
       "      <td>-0.729968</td>\n",
       "      <td>0.623516</td>\n",
       "      <td>-0.224546</td>\n",
       "      <td>-0.384776</td>\n",
       "      <td>0.615389</td>\n",
       "      <td>0.002588</td>\n",
       "      <td>-0.207686</td>\n",
       "      <td>-0.446293</td>\n",
       "      <td>-0.219902</td>\n",
       "      <td>-0.290937</td>\n",
       "      <td>0</td>\n",
       "    </tr>\n",
       "    <tr>\n",
       "      <th>39233</th>\n",
       "      <td>0</td>\n",
       "      <td>1.892697</td>\n",
       "      <td>-1.829076</td>\n",
       "      <td>-0.262680</td>\n",
       "      <td>0.531497</td>\n",
       "      <td>-0.227475</td>\n",
       "      <td>0.394660</td>\n",
       "      <td>-0.851810</td>\n",
       "      <td>-0.221904</td>\n",
       "      <td>-0.278473</td>\n",
       "      <td>0.264628</td>\n",
       "      <td>-0.123632</td>\n",
       "      <td>-0.224816</td>\n",
       "      <td>-0.151866</td>\n",
       "      <td>0</td>\n",
       "    </tr>\n",
       "  </tbody>\n",
       "</table>\n",
       "</div>"
      ],
      "text/plain": [
       "       label     pca_0     pca_1     pca_2     pca_3     pca_4     pca_5  \\\n",
       "66812      0  3.405352 -0.133571  0.022913 -0.656788  0.076587 -1.700207   \n",
       "26491      0 -6.135670 -0.950632 -1.297717  0.219088  0.041739  0.684836   \n",
       "56814      0  5.369586  0.137090  0.426693 -0.805127  0.490753  0.604057   \n",
       "62888      0  2.679422 -1.730951 -1.150534 -0.729968  0.623516 -0.224546   \n",
       "39233      0  1.892697 -1.829076 -0.262680  0.531497 -0.227475  0.394660   \n",
       "\n",
       "          pca_6     pca_7     pca_8     pca_9    pca_10    pca_11    pca_12  \\\n",
       "66812 -0.819912  0.225086 -0.306587 -0.567517 -0.105182 -0.090669 -0.012744   \n",
       "26491  0.246802 -0.349805 -0.559061 -0.274078 -0.342808 -0.085273 -0.018611   \n",
       "56814 -0.149051  0.276510  0.010877  0.378712 -0.531828 -0.469075 -0.354219   \n",
       "62888 -0.384776  0.615389  0.002588 -0.207686 -0.446293 -0.219902 -0.290937   \n",
       "39233 -0.851810 -0.221904 -0.278473  0.264628 -0.123632 -0.224816 -0.151866   \n",
       "\n",
       "       tsne_label  \n",
       "66812           0  \n",
       "26491           0  \n",
       "56814           0  \n",
       "62888           0  \n",
       "39233           0  "
      ]
     },
     "execution_count": 79,
     "metadata": {},
     "output_type": "execute_result"
    }
   ],
   "source": [
    "df.head()"
   ]
  },
  {
   "cell_type": "code",
   "execution_count": 80,
   "metadata": {},
   "outputs": [],
   "source": [
    "strength = df.loc[df['label'] == 1, 'tsne_label'].value_counts()"
   ]
  },
  {
   "cell_type": "code",
   "execution_count": 81,
   "metadata": {},
   "outputs": [
    {
     "data": {
      "text/plain": [
       "[0, 6, 5, 2, 4, 1, 7, 3]"
      ]
     },
     "execution_count": 81,
     "metadata": {},
     "output_type": "execute_result"
    }
   ],
   "source": [
    "strength.index.to_list()"
   ]
  },
  {
   "cell_type": "code",
   "execution_count": 82,
   "metadata": {},
   "outputs": [],
   "source": [
    "from random import sample\n",
    "\n",
    "for i in strength.index.to_list():\n",
    "    if i == 0: continue\n",
    "    n = strength[i]\n",
    "    condition = (df['label'] == 0) & (df['tsne_label'] == 0)\n",
    "    population = df[condition].index.to_list()\n",
    "    idxs = sample(population, k=n)\n",
    "    df.loc[idxs, 'tsne_label'] = i\n",
    "    # print(i, len(idxs))"
   ]
  },
  {
   "cell_type": "code",
   "execution_count": 83,
   "metadata": {},
   "outputs": [
    {
     "name": "stdout",
     "output_type": "stream",
     "text": [
      "True\n"
     ]
    },
    {
     "data": {
      "text/html": [
       "<div>\n",
       "<style scoped>\n",
       "    .dataframe tbody tr th:only-of-type {\n",
       "        vertical-align: middle;\n",
       "    }\n",
       "\n",
       "    .dataframe tbody tr th {\n",
       "        vertical-align: top;\n",
       "    }\n",
       "\n",
       "    .dataframe thead th {\n",
       "        text-align: right;\n",
       "    }\n",
       "</style>\n",
       "<table border=\"1\" class=\"dataframe\">\n",
       "  <thead>\n",
       "    <tr style=\"text-align: right;\">\n",
       "      <th></th>\n",
       "      <th>count</th>\n",
       "    </tr>\n",
       "    <tr>\n",
       "      <th>tsne_label</th>\n",
       "      <th></th>\n",
       "    </tr>\n",
       "  </thead>\n",
       "  <tbody>\n",
       "    <tr>\n",
       "      <th>0</th>\n",
       "      <td>20594</td>\n",
       "    </tr>\n",
       "    <tr>\n",
       "      <th>6</th>\n",
       "      <td>1075</td>\n",
       "    </tr>\n",
       "    <tr>\n",
       "      <th>5</th>\n",
       "      <td>910</td>\n",
       "    </tr>\n",
       "    <tr>\n",
       "      <th>2</th>\n",
       "      <td>759</td>\n",
       "    </tr>\n",
       "    <tr>\n",
       "      <th>4</th>\n",
       "      <td>537</td>\n",
       "    </tr>\n",
       "    <tr>\n",
       "      <th>1</th>\n",
       "      <td>499</td>\n",
       "    </tr>\n",
       "    <tr>\n",
       "      <th>7</th>\n",
       "      <td>466</td>\n",
       "    </tr>\n",
       "    <tr>\n",
       "      <th>3</th>\n",
       "      <td>352</td>\n",
       "    </tr>\n",
       "  </tbody>\n",
       "</table>\n",
       "</div>"
      ],
      "text/plain": [
       "            count\n",
       "tsne_label       \n",
       "0           20594\n",
       "6            1075\n",
       "5             910\n",
       "2             759\n",
       "4             537\n",
       "1             499\n",
       "7             466\n",
       "3             352"
      ]
     },
     "execution_count": 83,
     "metadata": {},
     "output_type": "execute_result"
    }
   ],
   "source": [
    "print((df.loc[df['label']==0, 'tsne_label'].value_counts() == df.loc[df['label']==1, 'tsne_label'].value_counts()).all() )\n",
    "pd.DataFrame(df.loc[df['label']==0, 'tsne_label'].value_counts())"
   ]
  },
  {
   "cell_type": "code",
   "execution_count": 84,
   "metadata": {},
   "outputs": [],
   "source": [
    "df.to_parquet('preprocessed_final.parquet')"
   ]
  }
 ],
 "metadata": {
  "kernelspec": {
   "display_name": "ai",
   "language": "python",
   "name": "python3"
  },
  "language_info": {
   "codemirror_mode": {
    "name": "ipython",
    "version": 3
   },
   "file_extension": ".py",
   "mimetype": "text/x-python",
   "name": "python",
   "nbconvert_exporter": "python",
   "pygments_lexer": "ipython3",
   "version": "3.11.9"
  }
 },
 "nbformat": 4,
 "nbformat_minor": 2
}
