{
 "cells": [
  {
   "cell_type": "code",
   "execution_count": 1,
   "metadata": {},
   "outputs": [],
   "source": [
    "import pandas as pd\n",
    "import re\n",
    "from imblearn.under_sampling import RandomUnderSampler"
   ]
  },
  {
   "cell_type": "code",
   "execution_count": 4,
   "metadata": {},
   "outputs": [
    {
     "data": {
      "text/html": [
       "<div>\n",
       "<style scoped>\n",
       "    .dataframe tbody tr th:only-of-type {\n",
       "        vertical-align: middle;\n",
       "    }\n",
       "\n",
       "    .dataframe tbody tr th {\n",
       "        vertical-align: top;\n",
       "    }\n",
       "\n",
       "    .dataframe thead th {\n",
       "        text-align: right;\n",
       "    }\n",
       "</style>\n",
       "<table border=\"1\" class=\"dataframe\">\n",
       "  <thead>\n",
       "    <tr style=\"text-align: right;\">\n",
       "      <th></th>\n",
       "      <th>label</th>\n",
       "      <th>subject</th>\n",
       "      <th>email_to</th>\n",
       "      <th>email_from</th>\n",
       "      <th>message</th>\n",
       "    </tr>\n",
       "  </thead>\n",
       "  <tbody>\n",
       "    <tr>\n",
       "      <th>0</th>\n",
       "      <td>1</td>\n",
       "      <td>Generic Cialis, branded quality@</td>\n",
       "      <td>the00@speedy.uwaterloo.ca</td>\n",
       "      <td>\"Tomas Jacobs\" &lt;RickyAmes@aol.com&gt;</td>\n",
       "      <td>Content-Type: text/html;\\nContent-Transfer-Enc...</td>\n",
       "    </tr>\n",
       "    <tr>\n",
       "      <th>1</th>\n",
       "      <td>0</td>\n",
       "      <td>Typo in /debian/README</td>\n",
       "      <td>debian-mirrors@lists.debian.org</td>\n",
       "      <td>Yan Morin &lt;yan.morin@savoirfairelinux.com&gt;</td>\n",
       "      <td>Hi, i've just updated from the gulus and I che...</td>\n",
       "    </tr>\n",
       "    <tr>\n",
       "      <th>2</th>\n",
       "      <td>1</td>\n",
       "      <td>authentic viagra</td>\n",
       "      <td>&lt;the00@plg.uwaterloo.ca&gt;</td>\n",
       "      <td>\"Sheila Crenshaw\" &lt;7stocknews@tractionmarketin...</td>\n",
       "      <td>Content-Type: text/plain;\\n\\tcharset=\"iso-8859...</td>\n",
       "    </tr>\n",
       "    <tr>\n",
       "      <th>3</th>\n",
       "      <td>1</td>\n",
       "      <td>Nice talking with ya</td>\n",
       "      <td>opt4@speedy.uwaterloo.ca</td>\n",
       "      <td>\"Stormy Dempsey\" &lt;vqucsmdfgvsg@ruraltek.com&gt;</td>\n",
       "      <td>Hey Billy, \\n\\nit was really fun going out the...</td>\n",
       "    </tr>\n",
       "    <tr>\n",
       "      <th>4</th>\n",
       "      <td>1</td>\n",
       "      <td>or trembling; stomach cramps; trouble in sleep...</td>\n",
       "      <td>ktwarwic@speedy.uwaterloo.ca</td>\n",
       "      <td>\"Christi T. Jernigan\" &lt;dcube@totalink.net&gt;</td>\n",
       "      <td>Content-Type: multipart/alternative;\\n        ...</td>\n",
       "    </tr>\n",
       "  </tbody>\n",
       "</table>\n",
       "</div>"
      ],
      "text/plain": [
       "   label                                            subject  \\\n",
       "0      1                  Generic Cialis, branded quality@    \n",
       "1      0                             Typo in /debian/README   \n",
       "2      1                                   authentic viagra   \n",
       "3      1                               Nice talking with ya   \n",
       "4      1  or trembling; stomach cramps; trouble in sleep...   \n",
       "\n",
       "                          email_to  \\\n",
       "0        the00@speedy.uwaterloo.ca   \n",
       "1  debian-mirrors@lists.debian.org   \n",
       "2         <the00@plg.uwaterloo.ca>   \n",
       "3         opt4@speedy.uwaterloo.ca   \n",
       "4     ktwarwic@speedy.uwaterloo.ca   \n",
       "\n",
       "                                          email_from  \\\n",
       "0                 \"Tomas Jacobs\" <RickyAmes@aol.com>   \n",
       "1         Yan Morin <yan.morin@savoirfairelinux.com>   \n",
       "2  \"Sheila Crenshaw\" <7stocknews@tractionmarketin...   \n",
       "3       \"Stormy Dempsey\" <vqucsmdfgvsg@ruraltek.com>   \n",
       "4         \"Christi T. Jernigan\" <dcube@totalink.net>   \n",
       "\n",
       "                                             message  \n",
       "0  Content-Type: text/html;\\nContent-Transfer-Enc...  \n",
       "1  Hi, i've just updated from the gulus and I che...  \n",
       "2  Content-Type: text/plain;\\n\\tcharset=\"iso-8859...  \n",
       "3  Hey Billy, \\n\\nit was really fun going out the...  \n",
       "4  Content-Type: multipart/alternative;\\n        ...  "
      ]
     },
     "execution_count": 4,
     "metadata": {},
     "output_type": "execute_result"
    }
   ],
   "source": [
    "df = pd.read_csv('processed_data.csv')\n",
    "df.dropna(how='any', inplace=True)\n",
    "df.head(5)"
   ]
  },
  {
   "cell_type": "code",
   "execution_count": 5,
   "metadata": {},
   "outputs": [
    {
     "data": {
      "text/plain": [
       "\"Hey Billy, \\n\\nit was really fun going out the other night \\nand talking, while we were out you said that you felt\\ninsecure about your manhood, I noticed in the toilets\\nyou were quite small in that area : ) , but not to \\nworry.. that website that I was telling you about is \\nmy secret weapon to an extra 3 inches, trust me.. girls\\nlove bigger ones, I've had 5 times as many chicks \\nsince I used these pills a year ago. The package I used\\nwas the 6 month supply one,  and its worth every \\ncent and more.. the website is http://ctmay.com \\nRing me on the weekend and we will go out and drink \\nagain and let you know some more secrets : ).\\nLater dude, Brad\""
      ]
     },
     "execution_count": 5,
     "metadata": {},
     "output_type": "execute_result"
    }
   ],
   "source": [
    "df['message'].loc[3]"
   ]
  },
  {
   "cell_type": "code",
   "execution_count": 6,
   "metadata": {},
   "outputs": [],
   "source": [
    "X, y = pd.DataFrame(df['message']), pd.DataFrame(df['label'])"
   ]
  },
  {
   "cell_type": "code",
   "execution_count": 7,
   "metadata": {},
   "outputs": [
    {
     "data": {
      "text/plain": [
       "label\n",
       "0        25192\n",
       "1        25192\n",
       "Name: count, dtype: int64"
      ]
     },
     "execution_count": 7,
     "metadata": {},
     "output_type": "execute_result"
    }
   ],
   "source": [
    "undersaple = RandomUnderSampler(sampling_strategy='auto', random_state=42)\n",
    "X_balanced, y_balanced = undersaple.fit_resample(X, y)\n",
    "\n",
    "y_balanced.value_counts()"
   ]
  },
  {
   "cell_type": "code",
   "execution_count": 8,
   "metadata": {},
   "outputs": [],
   "source": [
    "def clean_email(email):\n",
    "    expressions = re.sub(r'Content-Type: \\S+|Content-Transfer-Encoding: \\S+|charset=\\S+|tcharset=\\S+|On\\s.*?wrote:|0x[0-9]+|boundary=\\S+|\\S+NextPart\\S+', '', email, flags=re.IGNORECASE)\n",
    "    links_emails = re.sub(r'\\S+@\\S+|https?://\\S+|www\\.\\S+', '', expressions, flags=re.IGNORECASE)\n",
    "    other_characters = re.sub(r'[^a-zA-Z_ ]|_+', \" \", links_emails, flags=re.IGNORECASE)\n",
    "    multi_spaces = re.sub(r' {2,}',\" \", other_characters)\n",
    "    return multi_spaces"
   ]
  },
  {
   "cell_type": "code",
   "execution_count": 9,
   "metadata": {},
   "outputs": [
    {
     "name": "stderr",
     "output_type": "stream",
     "text": [
      "/home/michal/Software/Python/ai/lib/python3.11/site-packages/tqdm/auto.py:21: TqdmWarning: IProgress not found. Please update jupyter and ipywidgets. See https://ipywidgets.readthedocs.io/en/stable/user_install.html\n",
      "  from .autonotebook import tqdm as notebook_tqdm\n",
      "progress_bar: 100%|██████████| 50384/50384 [01:22<00:00, 607.82it/s] \n"
     ]
    }
   ],
   "source": [
    "from tqdm.auto import tqdm\n",
    "tqdm.pandas(desc = 'progress_bar')\n",
    "X_balanced = pd.DataFrame(X_balanced)\n",
    "X_balanced = X_balanced['message'].progress_apply(clean_email)"
   ]
  },
  {
   "cell_type": "code",
   "execution_count": 11,
   "metadata": {},
   "outputs": [
    {
     "name": "stderr",
     "output_type": "stream",
     "text": [
      "/home/michal/Software/Python/ai/lib/python3.11/site-packages/huggingface_hub/file_download.py:1132: FutureWarning: `resume_download` is deprecated and will be removed in version 1.0.0. Downloads always resume when possible. If you want to force a new download, use `force_download=True`.\n",
      "  warnings.warn(\n"
     ]
    },
    {
     "name": "stdout",
     "output_type": "stream",
     "text": [
      "cuda\n"
     ]
    }
   ],
   "source": [
    "import torch\n",
    "from transformers import BertModel, BertTokenizer\n",
    "\n",
    "tokenizer = BertTokenizer.from_pretrained('bert-base-uncased')\n",
    "model = BertModel.from_pretrained(\"bert-base-uncased\")\n",
    "\n",
    "device = torch.device(\"cuda\" if torch.cuda.is_available() else \"cpu\")\n",
    "print(device)"
   ]
  },
  {
   "cell_type": "code",
   "execution_count": 12,
   "metadata": {},
   "outputs": [
    {
     "name": "stderr",
     "output_type": "stream",
     "text": [
      "progress:   0%|          | 0/50384 [00:00<?, ?it/s]"
     ]
    },
    {
     "name": "stderr",
     "output_type": "stream",
     "text": [
      "progress: 100%|██████████| 50384/50384 [05:56<00:00, 141.18it/s]\n"
     ]
    }
   ],
   "source": [
    "def tokenize_message(cleaned_message):\n",
    "    return tokenizer(cleaned_message, return_tensors='pt', padding=True, truncation=True, max_length=512)\n",
    "\n",
    "X_tokens = []\n",
    "for message in tqdm(X_balanced, desc='progress'):\n",
    "    X_tokens.append(tokenize_message(message))"
   ]
  },
  {
   "cell_type": "code",
   "execution_count": 13,
   "metadata": {},
   "outputs": [],
   "source": [
    "def get_bert_embeddings(token):\n",
    "    with torch.no_grad():\n",
    "        embedding = model(token['input_ids'], attention_mask=token['attention_mask'])\n",
    "        return embedding.pooler_output"
   ]
  },
  {
   "cell_type": "code",
   "execution_count": 14,
   "metadata": {},
   "outputs": [
    {
     "name": "stderr",
     "output_type": "stream",
     "text": [
      "progress: 100%|██████████| 50384/50384 [16:45<00:00, 50.10it/s]\n"
     ]
    }
   ],
   "source": [
    "model.to(device)\n",
    "\n",
    "X_embeddings = []\n",
    "for token in tqdm(X_tokens, desc='progress'):\n",
    "    token.to(device)\n",
    "    X_embeddings.append(get_bert_embeddings(token))\n",
    "    del token"
   ]
  },
  {
   "cell_type": "code",
   "execution_count": 15,
   "metadata": {},
   "outputs": [],
   "source": [
    "X_embeddings_cpu = [embedding.detach().cpu() for embedding in X_embeddings]\n",
    "\n",
    "del X_embeddings\n",
    "torch.cuda.empty_cache()"
   ]
  },
  {
   "cell_type": "code",
   "execution_count": 16,
   "metadata": {},
   "outputs": [
    {
     "data": {
      "text/html": [
       "<div>\n",
       "<style scoped>\n",
       "    .dataframe tbody tr th:only-of-type {\n",
       "        vertical-align: middle;\n",
       "    }\n",
       "\n",
       "    .dataframe tbody tr th {\n",
       "        vertical-align: top;\n",
       "    }\n",
       "\n",
       "    .dataframe thead th {\n",
       "        text-align: right;\n",
       "    }\n",
       "</style>\n",
       "<table border=\"1\" class=\"dataframe\">\n",
       "  <thead>\n",
       "    <tr style=\"text-align: right;\">\n",
       "      <th></th>\n",
       "      <th>0</th>\n",
       "      <th>1</th>\n",
       "      <th>2</th>\n",
       "      <th>3</th>\n",
       "      <th>4</th>\n",
       "      <th>5</th>\n",
       "      <th>6</th>\n",
       "      <th>7</th>\n",
       "      <th>8</th>\n",
       "      <th>9</th>\n",
       "      <th>...</th>\n",
       "      <th>758</th>\n",
       "      <th>759</th>\n",
       "      <th>760</th>\n",
       "      <th>761</th>\n",
       "      <th>762</th>\n",
       "      <th>763</th>\n",
       "      <th>764</th>\n",
       "      <th>765</th>\n",
       "      <th>766</th>\n",
       "      <th>767</th>\n",
       "    </tr>\n",
       "  </thead>\n",
       "  <tbody>\n",
       "    <tr>\n",
       "      <th>1</th>\n",
       "      <td>-0.736354</td>\n",
       "      <td>-0.452856</td>\n",
       "      <td>-0.900266</td>\n",
       "      <td>0.607368</td>\n",
       "      <td>0.529109</td>\n",
       "      <td>-0.267249</td>\n",
       "      <td>0.433341</td>\n",
       "      <td>0.334154</td>\n",
       "      <td>-0.490229</td>\n",
       "      <td>-0.999952</td>\n",
       "      <td>...</td>\n",
       "      <td>0.505360</td>\n",
       "      <td>0.077232</td>\n",
       "      <td>0.879334</td>\n",
       "      <td>0.622733</td>\n",
       "      <td>-0.110042</td>\n",
       "      <td>0.129890</td>\n",
       "      <td>0.536032</td>\n",
       "      <td>-0.797027</td>\n",
       "      <td>-0.599843</td>\n",
       "      <td>0.759635</td>\n",
       "    </tr>\n",
       "    <tr>\n",
       "      <th>9</th>\n",
       "      <td>-0.744532</td>\n",
       "      <td>-0.458834</td>\n",
       "      <td>-0.744694</td>\n",
       "      <td>0.532082</td>\n",
       "      <td>0.311149</td>\n",
       "      <td>-0.129973</td>\n",
       "      <td>0.472880</td>\n",
       "      <td>0.302928</td>\n",
       "      <td>-0.515091</td>\n",
       "      <td>-0.999948</td>\n",
       "      <td>...</td>\n",
       "      <td>0.548646</td>\n",
       "      <td>0.256473</td>\n",
       "      <td>0.768397</td>\n",
       "      <td>0.710780</td>\n",
       "      <td>0.346100</td>\n",
       "      <td>0.227118</td>\n",
       "      <td>0.615897</td>\n",
       "      <td>-0.566250</td>\n",
       "      <td>-0.635862</td>\n",
       "      <td>0.742113</td>\n",
       "    </tr>\n",
       "    <tr>\n",
       "      <th>19</th>\n",
       "      <td>-0.703189</td>\n",
       "      <td>-0.482237</td>\n",
       "      <td>-0.837993</td>\n",
       "      <td>0.409060</td>\n",
       "      <td>0.359977</td>\n",
       "      <td>-0.125014</td>\n",
       "      <td>0.141702</td>\n",
       "      <td>0.312893</td>\n",
       "      <td>-0.582414</td>\n",
       "      <td>-0.999898</td>\n",
       "      <td>...</td>\n",
       "      <td>0.628102</td>\n",
       "      <td>0.357343</td>\n",
       "      <td>0.813748</td>\n",
       "      <td>0.582983</td>\n",
       "      <td>0.249469</td>\n",
       "      <td>-0.001337</td>\n",
       "      <td>0.718755</td>\n",
       "      <td>-0.735794</td>\n",
       "      <td>-0.579613</td>\n",
       "      <td>0.611510</td>\n",
       "    </tr>\n",
       "    <tr>\n",
       "      <th>20</th>\n",
       "      <td>-0.796584</td>\n",
       "      <td>-0.525187</td>\n",
       "      <td>-0.901323</td>\n",
       "      <td>0.721053</td>\n",
       "      <td>0.615162</td>\n",
       "      <td>-0.146203</td>\n",
       "      <td>0.736815</td>\n",
       "      <td>0.410643</td>\n",
       "      <td>-0.672798</td>\n",
       "      <td>-0.999979</td>\n",
       "      <td>...</td>\n",
       "      <td>0.644843</td>\n",
       "      <td>-0.195539</td>\n",
       "      <td>0.913168</td>\n",
       "      <td>0.737932</td>\n",
       "      <td>-0.083464</td>\n",
       "      <td>0.204052</td>\n",
       "      <td>0.676939</td>\n",
       "      <td>-0.717710</td>\n",
       "      <td>-0.695663</td>\n",
       "      <td>0.880075</td>\n",
       "    </tr>\n",
       "    <tr>\n",
       "      <th>28</th>\n",
       "      <td>-0.709045</td>\n",
       "      <td>-0.550619</td>\n",
       "      <td>-0.848801</td>\n",
       "      <td>0.587083</td>\n",
       "      <td>0.369468</td>\n",
       "      <td>-0.166272</td>\n",
       "      <td>0.443767</td>\n",
       "      <td>0.466522</td>\n",
       "      <td>-0.492667</td>\n",
       "      <td>-0.999962</td>\n",
       "      <td>...</td>\n",
       "      <td>0.607070</td>\n",
       "      <td>-0.386923</td>\n",
       "      <td>0.813543</td>\n",
       "      <td>0.633295</td>\n",
       "      <td>0.182254</td>\n",
       "      <td>0.055232</td>\n",
       "      <td>0.687205</td>\n",
       "      <td>-0.530300</td>\n",
       "      <td>-0.657097</td>\n",
       "      <td>0.604088</td>\n",
       "    </tr>\n",
       "  </tbody>\n",
       "</table>\n",
       "<p>5 rows × 768 columns</p>\n",
       "</div>"
      ],
      "text/plain": [
       "         0         1         2         3         4         5         6    \\\n",
       "1  -0.736354 -0.452856 -0.900266  0.607368  0.529109 -0.267249  0.433341   \n",
       "9  -0.744532 -0.458834 -0.744694  0.532082  0.311149 -0.129973  0.472880   \n",
       "19 -0.703189 -0.482237 -0.837993  0.409060  0.359977 -0.125014  0.141702   \n",
       "20 -0.796584 -0.525187 -0.901323  0.721053  0.615162 -0.146203  0.736815   \n",
       "28 -0.709045 -0.550619 -0.848801  0.587083  0.369468 -0.166272  0.443767   \n",
       "\n",
       "         7         8         9    ...       758       759       760       761  \\\n",
       "1   0.334154 -0.490229 -0.999952  ...  0.505360  0.077232  0.879334  0.622733   \n",
       "9   0.302928 -0.515091 -0.999948  ...  0.548646  0.256473  0.768397  0.710780   \n",
       "19  0.312893 -0.582414 -0.999898  ...  0.628102  0.357343  0.813748  0.582983   \n",
       "20  0.410643 -0.672798 -0.999979  ...  0.644843 -0.195539  0.913168  0.737932   \n",
       "28  0.466522 -0.492667 -0.999962  ...  0.607070 -0.386923  0.813543  0.633295   \n",
       "\n",
       "         762       763       764       765       766       767  \n",
       "1  -0.110042  0.129890  0.536032 -0.797027 -0.599843  0.759635  \n",
       "9   0.346100  0.227118  0.615897 -0.566250 -0.635862  0.742113  \n",
       "19  0.249469 -0.001337  0.718755 -0.735794 -0.579613  0.611510  \n",
       "20 -0.083464  0.204052  0.676939 -0.717710 -0.695663  0.880075  \n",
       "28  0.182254  0.055232  0.687205 -0.530300 -0.657097  0.604088  \n",
       "\n",
       "[5 rows x 768 columns]"
      ]
     },
     "execution_count": 16,
     "metadata": {},
     "output_type": "execute_result"
    }
   ],
   "source": [
    "X_embeddings_df = pd.DataFrame([embedding[0].tolist() for embedding in X_embeddings_cpu])\n",
    "X_embeddings_df.index = X_balanced.index\n",
    "X_embeddings_df.head()"
   ]
  },
  {
   "cell_type": "code",
   "execution_count": 17,
   "metadata": {},
   "outputs": [],
   "source": [
    "from sklearn.decomposition import PCA\n",
    "import numpy as np\n",
    "import matplotlib.pyplot as plt"
   ]
  },
  {
   "cell_type": "code",
   "execution_count": 18,
   "metadata": {},
   "outputs": [
    {
     "data": {
      "image/png": "[encoded data removed]",
      "text/plain": [
       "<Figure size 640x480 with 1 Axes>"
      ]
     },
     "metadata": {},
     "output_type": "display_data"
    }
   ],
   "source": [
    "pca = PCA()\n",
    "pca.fit(X_embeddings_df)\n",
    "\n",
    "PC_values = np.arange(pca.n_components_)\n",
    "plt.plot(PC_values, pca.explained_variance_ratio_, '-', linewidth=2, color='blue')\n",
    "plt.title('Scree Plot')\n",
    "plt.xlabel('Principal Component')\n",
    "plt.ylabel('Variance Explained')\n",
    "plt.show()"
   ]
  },
  {
   "cell_type": "code",
   "execution_count": 19,
   "metadata": {},
   "outputs": [
    {
     "name": "stdout",
     "output_type": "stream",
     "text": [
      "Percentage of variance explained by 13 principal components: 95.0247720174214\n"
     ]
    }
   ],
   "source": [
    "cumsum = np.cumsum(pca.explained_variance_ratio_)\n",
    "print(f'Percentage of variance explained by 13 principal components: {cumsum[12]*100}')"
   ]
  },
  {
   "cell_type": "code",
   "execution_count": 20,
   "metadata": {},
   "outputs": [
    {
     "data": {
      "text/plain": [
       "0.8892837806652201"
      ]
     },
     "execution_count": 20,
     "metadata": {},
     "output_type": "execute_result"
    }
   ],
   "source": [
    "cumsum[3]"
   ]
  },
  {
   "cell_type": "code",
   "execution_count": 22,
   "metadata": {},
   "outputs": [
    {
     "data": {
      "image/png": "[encoded data removed]",
      "text/plain": [
       "<Figure size 640x480 with 1 Axes>"
      ]
     },
     "metadata": {},
     "output_type": "display_data"
    }
   ],
   "source": [
    "values = np.arange(0, 61)\n",
    "plt.plot(values, np.concatenate([np.array([0]), cumsum[:60]]),linewidth=2, color='black')\n",
    "plt.plot(12, cumsum[12], 'ro')\n",
    "plt.axhline(y=cumsum[12], color='r', linestyle='--', lw=1)\n",
    "plt.axvline(x=12, color='r', linestyle='--', lw=1)\n",
    "plt.ylabel('Total Variance Explained')\n",
    "plt.xlabel('Number of used Principal Components')\n",
    "plt.ylim((0,1))\n",
    "plt.grid()\n",
    "plt.title('Cumulative total variance explained')\n",
    "plt.show()"
   ]
  },
  {
   "cell_type": "code",
   "execution_count": 23,
   "metadata": {},
   "outputs": [],
   "source": [
    "pca_13 = PCA(n_components=13)\n",
    "pca_13.fit(X_embeddings_df)\n",
    "pca_embeddings = pca_13.transform(X_embeddings_df)"
   ]
  },
  {
   "cell_type": "code",
   "execution_count": 24,
   "metadata": {},
   "outputs": [
    {
     "data": {
      "text/html": [
       "<div>\n",
       "<style scoped>\n",
       "    .dataframe tbody tr th:only-of-type {\n",
       "        vertical-align: middle;\n",
       "    }\n",
       "\n",
       "    .dataframe tbody tr th {\n",
       "        vertical-align: top;\n",
       "    }\n",
       "\n",
       "    .dataframe thead th {\n",
       "        text-align: right;\n",
       "    }\n",
       "</style>\n",
       "<table border=\"1\" class=\"dataframe\">\n",
       "  <thead>\n",
       "    <tr style=\"text-align: right;\">\n",
       "      <th></th>\n",
       "      <th>pca_0</th>\n",
       "      <th>pca_1</th>\n",
       "      <th>pca_2</th>\n",
       "      <th>pca_3</th>\n",
       "      <th>pca_4</th>\n",
       "      <th>pca_5</th>\n",
       "      <th>pca_6</th>\n",
       "      <th>pca_7</th>\n",
       "      <th>pca_8</th>\n",
       "      <th>pca_9</th>\n",
       "      <th>pca_10</th>\n",
       "      <th>pca_11</th>\n",
       "      <th>pca_12</th>\n",
       "    </tr>\n",
       "  </thead>\n",
       "  <tbody>\n",
       "    <tr>\n",
       "      <th>1</th>\n",
       "      <td>2.352301</td>\n",
       "      <td>-0.776127</td>\n",
       "      <td>-1.018263</td>\n",
       "      <td>0.179621</td>\n",
       "      <td>0.428476</td>\n",
       "      <td>1.145457</td>\n",
       "      <td>-0.109729</td>\n",
       "      <td>0.127196</td>\n",
       "      <td>0.011035</td>\n",
       "      <td>0.302898</td>\n",
       "      <td>-0.040095</td>\n",
       "      <td>-0.351948</td>\n",
       "      <td>0.060799</td>\n",
       "    </tr>\n",
       "    <tr>\n",
       "      <th>9</th>\n",
       "      <td>3.939804</td>\n",
       "      <td>-1.509058</td>\n",
       "      <td>-0.692462</td>\n",
       "      <td>0.079318</td>\n",
       "      <td>1.103494</td>\n",
       "      <td>0.212633</td>\n",
       "      <td>0.030289</td>\n",
       "      <td>0.406922</td>\n",
       "      <td>0.040976</td>\n",
       "      <td>-0.172508</td>\n",
       "      <td>-0.035582</td>\n",
       "      <td>-0.145443</td>\n",
       "      <td>0.496701</td>\n",
       "    </tr>\n",
       "    <tr>\n",
       "      <th>19</th>\n",
       "      <td>2.987183</td>\n",
       "      <td>0.831495</td>\n",
       "      <td>-0.184284</td>\n",
       "      <td>0.258609</td>\n",
       "      <td>1.084511</td>\n",
       "      <td>0.095935</td>\n",
       "      <td>0.122495</td>\n",
       "      <td>0.486012</td>\n",
       "      <td>0.232857</td>\n",
       "      <td>-0.324556</td>\n",
       "      <td>0.399958</td>\n",
       "      <td>0.356646</td>\n",
       "      <td>0.754998</td>\n",
       "    </tr>\n",
       "    <tr>\n",
       "      <th>20</th>\n",
       "      <td>0.916919</td>\n",
       "      <td>-2.239033</td>\n",
       "      <td>-1.616736</td>\n",
       "      <td>0.710553</td>\n",
       "      <td>0.317823</td>\n",
       "      <td>-0.008515</td>\n",
       "      <td>-0.143397</td>\n",
       "      <td>0.145251</td>\n",
       "      <td>0.354858</td>\n",
       "      <td>-0.146318</td>\n",
       "      <td>-0.248080</td>\n",
       "      <td>0.044747</td>\n",
       "      <td>0.144934</td>\n",
       "    </tr>\n",
       "    <tr>\n",
       "      <th>28</th>\n",
       "      <td>3.182816</td>\n",
       "      <td>-0.673347</td>\n",
       "      <td>-0.002529</td>\n",
       "      <td>0.415266</td>\n",
       "      <td>0.571101</td>\n",
       "      <td>-0.158885</td>\n",
       "      <td>-1.009567</td>\n",
       "      <td>-0.024629</td>\n",
       "      <td>-0.440965</td>\n",
       "      <td>-0.018138</td>\n",
       "      <td>0.005876</td>\n",
       "      <td>-0.633176</td>\n",
       "      <td>0.039534</td>\n",
       "    </tr>\n",
       "  </tbody>\n",
       "</table>\n",
       "</div>"
      ],
      "text/plain": [
       "       pca_0     pca_1     pca_2     pca_3     pca_4     pca_5     pca_6  \\\n",
       "1   2.352301 -0.776127 -1.018263  0.179621  0.428476  1.145457 -0.109729   \n",
       "9   3.939804 -1.509058 -0.692462  0.079318  1.103494  0.212633  0.030289   \n",
       "19  2.987183  0.831495 -0.184284  0.258609  1.084511  0.095935  0.122495   \n",
       "20  0.916919 -2.239033 -1.616736  0.710553  0.317823 -0.008515 -0.143397   \n",
       "28  3.182816 -0.673347 -0.002529  0.415266  0.571101 -0.158885 -1.009567   \n",
       "\n",
       "       pca_7     pca_8     pca_9    pca_10    pca_11    pca_12  \n",
       "1   0.127196  0.011035  0.302898 -0.040095 -0.351948  0.060799  \n",
       "9   0.406922  0.040976 -0.172508 -0.035582 -0.145443  0.496701  \n",
       "19  0.486012  0.232857 -0.324556  0.399958  0.356646  0.754998  \n",
       "20  0.145251  0.354858 -0.146318 -0.248080  0.044747  0.144934  \n",
       "28 -0.024629 -0.440965 -0.018138  0.005876 -0.633176  0.039534  "
      ]
     },
     "execution_count": 24,
     "metadata": {},
     "output_type": "execute_result"
    }
   ],
   "source": [
    "X_pca = pd.DataFrame(pca_embeddings)\n",
    "X_pca.index = X_balanced.index\n",
    "X_pca.columns = [f'pca_{i}' for i in range(0, 12 + 1)]\n",
    "X_pca.head()"
   ]
  },
  {
   "cell_type": "code",
   "execution_count": 25,
   "metadata": {},
   "outputs": [
    {
     "name": "stdout",
     "output_type": "stream",
     "text": [
      "Indexes are the same\n"
     ]
    },
    {
     "data": {
      "text/html": [
       "<div>\n",
       "<style scoped>\n",
       "    .dataframe tbody tr th:only-of-type {\n",
       "        vertical-align: middle;\n",
       "    }\n",
       "\n",
       "    .dataframe tbody tr th {\n",
       "        vertical-align: top;\n",
       "    }\n",
       "\n",
       "    .dataframe thead th {\n",
       "        text-align: right;\n",
       "    }\n",
       "</style>\n",
       "<table border=\"1\" class=\"dataframe\">\n",
       "  <thead>\n",
       "    <tr style=\"text-align: right;\">\n",
       "      <th></th>\n",
       "      <th>label</th>\n",
       "      <th>pca_0</th>\n",
       "      <th>pca_1</th>\n",
       "      <th>pca_2</th>\n",
       "      <th>pca_3</th>\n",
       "      <th>pca_4</th>\n",
       "      <th>pca_5</th>\n",
       "      <th>pca_6</th>\n",
       "      <th>pca_7</th>\n",
       "      <th>pca_8</th>\n",
       "      <th>pca_9</th>\n",
       "      <th>pca_10</th>\n",
       "      <th>pca_11</th>\n",
       "      <th>pca_12</th>\n",
       "    </tr>\n",
       "  </thead>\n",
       "  <tbody>\n",
       "    <tr>\n",
       "      <th>5049</th>\n",
       "      <td>0</td>\n",
       "      <td>-1.942495</td>\n",
       "      <td>4.503775</td>\n",
       "      <td>0.989897</td>\n",
       "      <td>-0.136373</td>\n",
       "      <td>0.031306</td>\n",
       "      <td>-0.979002</td>\n",
       "      <td>-0.208251</td>\n",
       "      <td>0.223024</td>\n",
       "      <td>0.105519</td>\n",
       "      <td>0.215910</td>\n",
       "      <td>0.521777</td>\n",
       "      <td>-0.059431</td>\n",
       "      <td>0.110921</td>\n",
       "    </tr>\n",
       "    <tr>\n",
       "      <th>47328</th>\n",
       "      <td>0</td>\n",
       "      <td>1.010724</td>\n",
       "      <td>-0.630826</td>\n",
       "      <td>-0.414920</td>\n",
       "      <td>0.203684</td>\n",
       "      <td>0.004939</td>\n",
       "      <td>0.232490</td>\n",
       "      <td>-0.914872</td>\n",
       "      <td>0.092836</td>\n",
       "      <td>-0.122631</td>\n",
       "      <td>0.287567</td>\n",
       "      <td>-0.110372</td>\n",
       "      <td>-0.062281</td>\n",
       "      <td>-0.132341</td>\n",
       "    </tr>\n",
       "    <tr>\n",
       "      <th>30303</th>\n",
       "      <td>1</td>\n",
       "      <td>-9.792177</td>\n",
       "      <td>-3.238162</td>\n",
       "      <td>0.511290</td>\n",
       "      <td>0.198238</td>\n",
       "      <td>-0.403885</td>\n",
       "      <td>0.407351</td>\n",
       "      <td>0.080823</td>\n",
       "      <td>-0.793677</td>\n",
       "      <td>0.695209</td>\n",
       "      <td>-0.668888</td>\n",
       "      <td>0.049802</td>\n",
       "      <td>-0.118460</td>\n",
       "      <td>0.103633</td>\n",
       "    </tr>\n",
       "    <tr>\n",
       "      <th>19219</th>\n",
       "      <td>1</td>\n",
       "      <td>-9.649083</td>\n",
       "      <td>-2.358724</td>\n",
       "      <td>0.425761</td>\n",
       "      <td>-0.512714</td>\n",
       "      <td>0.012001</td>\n",
       "      <td>0.130924</td>\n",
       "      <td>0.225414</td>\n",
       "      <td>-0.104580</td>\n",
       "      <td>0.131542</td>\n",
       "      <td>-0.419563</td>\n",
       "      <td>0.294364</td>\n",
       "      <td>-0.009525</td>\n",
       "      <td>0.112954</td>\n",
       "    </tr>\n",
       "    <tr>\n",
       "      <th>35947</th>\n",
       "      <td>1</td>\n",
       "      <td>-9.675876</td>\n",
       "      <td>-1.735106</td>\n",
       "      <td>0.927085</td>\n",
       "      <td>0.065313</td>\n",
       "      <td>-0.204944</td>\n",
       "      <td>0.043645</td>\n",
       "      <td>0.271444</td>\n",
       "      <td>-0.178751</td>\n",
       "      <td>-0.175065</td>\n",
       "      <td>-0.194047</td>\n",
       "      <td>-0.083362</td>\n",
       "      <td>-0.308353</td>\n",
       "      <td>-0.037760</td>\n",
       "    </tr>\n",
       "  </tbody>\n",
       "</table>\n",
       "</div>"
      ],
      "text/plain": [
       "       label     pca_0     pca_1     pca_2     pca_3     pca_4     pca_5  \\\n",
       "5049       0 -1.942495  4.503775  0.989897 -0.136373  0.031306 -0.979002   \n",
       "47328      0  1.010724 -0.630826 -0.414920  0.203684  0.004939  0.232490   \n",
       "30303      1 -9.792177 -3.238162  0.511290  0.198238 -0.403885  0.407351   \n",
       "19219      1 -9.649083 -2.358724  0.425761 -0.512714  0.012001  0.130924   \n",
       "35947      1 -9.675876 -1.735106  0.927085  0.065313 -0.204944  0.043645   \n",
       "\n",
       "          pca_6     pca_7     pca_8     pca_9    pca_10    pca_11    pca_12  \n",
       "5049  -0.208251  0.223024  0.105519  0.215910  0.521777 -0.059431  0.110921  \n",
       "47328 -0.914872  0.092836 -0.122631  0.287567 -0.110372 -0.062281 -0.132341  \n",
       "30303  0.080823 -0.793677  0.695209 -0.668888  0.049802 -0.118460  0.103633  \n",
       "19219  0.225414 -0.104580  0.131542 -0.419563  0.294364 -0.009525  0.112954  \n",
       "35947  0.271444 -0.178751 -0.175065 -0.194047 -0.083362 -0.308353 -0.037760  "
      ]
     },
     "execution_count": 25,
     "metadata": {},
     "output_type": "execute_result"
    }
   ],
   "source": [
    "if (X_pca.index == y_balanced.index).all(): print('Indexes are the same')\n",
    "processed_df = pd.concat(objs=[y_balanced, X_pca], axis=1)\n",
    "processed_df = processed_df.sample(frac=1)\n",
    "processed_df.head()"
   ]
  },
  {
   "cell_type": "code",
   "execution_count": 26,
   "metadata": {},
   "outputs": [],
   "source": [
    "processed_df.to_parquet('./processed_data.parquet')"
   ]
  }
 ],
 "metadata": {
  "kernelspec": {
   "display_name": "ai",
   "language": "python",
   "name": "python3"
  },
  "language_info": {
   "codemirror_mode": {
    "name": "ipython",
    "version": 3
   },
   "file_extension": ".py",
   "mimetype": "text/x-python",
   "name": "python",
   "nbconvert_exporter": "python",
   "pygments_lexer": "ipython3",
   "version": "3.11.9"
  }
 },
 "nbformat": 4,
 "nbformat_minor": 2
}
